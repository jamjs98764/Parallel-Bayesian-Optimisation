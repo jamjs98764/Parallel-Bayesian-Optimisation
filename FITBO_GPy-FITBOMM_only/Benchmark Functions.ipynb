{
 "cells": [
  {
   "cell_type": "markdown",
   "metadata": {},
   "source": [
    "# Main Code "
   ]
  },
  {
   "cell_type": "markdown",
   "metadata": {},
   "source": [
    "## 2D (optional: query points)"
   ]
  },
  {
   "cell_type": "code",
   "execution_count": null,
   "metadata": {},
   "outputs": [],
   "source": [
    "from Test_Funcs import egg,hartmann,branin\n",
    "from mpl_toolkits.mplot3d import axes3d, Axes3D\n",
    "from matplotlib import cm\n",
    "from matplotlib.ticker import LinearLocator, FormatStrFormatter\n",
    "\n",
    "funcs = {\n",
    "    \"branin\": branin,\n",
    "    \"egg\": egg,\n",
    "    \"hartmann\": hartmann\n",
    "}\n",
    "\n",
    "# Minimum y value\n",
    "min_y_dict = {\n",
    "    \"hartmann\": np.array([-18.22368011]),\n",
    "    \"egg\": np.array([-9.596407]),\n",
    "    \"branin\": np.array([-14.96021125])\n",
    "}\n",
    "\n",
    "# Minimiser x value\n",
    "min_x_dict = {\n",
    "    \"hartmann\": np.array([[0.20169, 0.150011, 0.476874, 0.275332, 0.311652, 0.6573]]),\n",
    "    \"egg\": np.array([[1.0, 0.7895]]),\n",
    "    \"branin\": np.array([[0.1239, 0.8183],[0.5428, 0.1517],[0.9617, 0.1650]])\n",
    "}\n",
    "\n",
    "# Dimensions\n",
    "dim_dict = {\n",
    "    \"hartmann\": 6,\n",
    "    \"egg\": 2,\n",
    "    \"branin\": 2    \n",
    "}\n",
    "\n",
    "graph_title3 = {\n",
    "    \"egg\": \"3D plot for Normalised Egg Function\",\n",
    "    \"branin\": \"3D plot for Normalised Branin Function\"\n",
    "}\n",
    "\n",
    "graph_title = {\n",
    "    \"egg\": \"2D plot for Normalised Egg Function\",\n",
    "    \"branin\": \"2D plot for Normalised Branin Function\"\n",
    "}\n",
    "\n",
    "def plot_contour_2d(selected_func, past_x = np.array([]), no_queries = 20):\n",
    "    \"\"\" \n",
    "    Plots and saves 2d plots\n",
    "    Past_x and no_queries: plots query record\n",
    "    \"\"\"\n",
    "    x_min = min_x_dict[selected_func]\n",
    "    func = funcs[selected_func]\n",
    "    \n",
    "    x1 = np.linspace(0.0, 1.0, 100)\n",
    "    x2 = np.linspace(0.0, 1.0, 100)\n",
    "    X1, X2 = np.meshgrid(x1, x2)\n",
    "    X = np.hstack((X1.reshape(100*100,1),X2.reshape(100*100,1)))\n",
    "    Y = func(X)\n",
    "    \n",
    "    plt.figure()    \n",
    "    plt.contourf(X1, X2, Y.reshape((100,100)),100)\n",
    "    if (len(x_min)>1):    \n",
    "        plt.plot(np.array(x_min)[:,0], np.array(x_min)[:,1], 'm.', markersize=20, label='Global Minimums')\n",
    "    else:\n",
    "        plt.plot(x_min[0][0], x_min[0][1], 'm.', markersize=20, label='Global Minimum')\n",
    "    plt.legend()\n",
    "    plt.colorbar()\n",
    "    plt.xlabel('X1')\n",
    "    plt.ylabel('X2')\n",
    "    plt.title(graph_title[selected_func])\n",
    "    \n",
    "    if past_x.shape != (0,): # Means we have query record\n",
    "        lons = past_x[:no_queries,0]\n",
    "        lats = past_x[:no_queries,1]\n",
    "        vals = np.arange(lons.shape[0])\n",
    "        plt.scatter(lons, lats, c=vals, cmap='afmhot')  \n",
    "        plt.colorbar()\n",
    "        savepath = \"Exp_Data/Graphs/2d_queries_\" + selected_func + \".png\"\n",
    "    else:\n",
    "        savepath = \"Exp_Data/Graphs/2d_contour_\" + selected_func + \".png\"\n",
    "        \n",
    "    plt.show()\n",
    "    plt.savefig(savepath)\n",
    "    \n",
    "plot_contour_2d(\"egg\")"
   ]
  },
  {
   "cell_type": "markdown",
   "metadata": {},
   "source": [
    "# Help"
   ]
  },
  {
   "cell_type": "code",
   "execution_count": null,
   "metadata": {},
   "outputs": [],
   "source": []
  }
 ],
 "metadata": {
  "kernelspec": {
   "display_name": "Python 3",
   "language": "python",
   "name": "python3"
  },
  "language_info": {
   "codemirror_mode": {
    "name": "ipython",
    "version": 3
   },
   "file_extension": ".py",
   "mimetype": "text/x-python",
   "name": "python",
   "nbconvert_exporter": "python",
   "pygments_lexer": "ipython3",
   "version": "3.5.5"
  }
 },
 "nbformat": 4,
 "nbformat_minor": 2
}
