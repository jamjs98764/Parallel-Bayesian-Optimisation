{
 "cells": [
  {
   "cell_type": "code",
   "execution_count": 1,
   "metadata": {},
   "outputs": [],
   "source": [
    "import numpy as np\n",
    "import seaborn as sns\n",
    "import pandas as pd\n",
    "import pickle\n",
    "import matplotlib.pyplot as plt\n",
    "%matplotlib inline"
   ]
  },
  {
   "cell_type": "code",
   "execution_count": null,
   "metadata": {},
   "outputs": [],
   "source": [
    "seed_size = 30\n",
    "batch_sizes = [4]\n",
    "test_funcs = [\"egg\"]\n",
    "save_file = False\n",
    "\n",
    "plot_choice_PI = {\n",
    "        \"seq_results\": 0, \n",
    "        \"random_results\": 1,\n",
    "        \"random1_results\": 1,\n",
    "        \"kb_results\": 1,\n",
    "        \"cl_mean_results\": 0, \n",
    "        \"cl_min_results\": 1,\n",
    "        \"cl_max_results\": 0\n",
    "        }\n",
    "\n",
    "aggr_seed = \"mean\""
   ]
  },
  {
   "cell_type": "markdown",
   "metadata": {},
   "source": [
    "## Line Plots"
   ]
  },
  {
   "cell_type": "code",
   "execution_count": 2,
   "metadata": {},
   "outputs": [
    {
     "ename": "NameError",
     "evalue": "name 'aggr_seed' is not defined",
     "output_type": "error",
     "traceback": [
      "\u001b[1;31m---------------------------------------------------------------------------\u001b[0m",
      "\u001b[1;31mNameError\u001b[0m                                 Traceback (most recent call last)",
      "\u001b[1;32m<ipython-input-2-1ac33344602b>\u001b[0m in \u001b[0;36m<module>\u001b[1;34m()\u001b[0m\n\u001b[1;32m----> 1\u001b[1;33m \u001b[1;32mdef\u001b[0m \u001b[0mcumulative_PI_score\u001b[0m\u001b[1;33m(\u001b[0m\u001b[0mfunc\u001b[0m \u001b[1;33m=\u001b[0m \u001b[1;34m\"egg\"\u001b[0m\u001b[1;33m,\u001b[0m \u001b[0mseed_size\u001b[0m \u001b[1;33m=\u001b[0m \u001b[1;36m2\u001b[0m\u001b[1;33m,\u001b[0m \u001b[0mbatch\u001b[0m \u001b[1;33m=\u001b[0m \u001b[1;32mFalse\u001b[0m\u001b[1;33m,\u001b[0m \u001b[0mbatch_size\u001b[0m \u001b[1;33m=\u001b[0m \u001b[1;36m2\u001b[0m\u001b[1;33m,\u001b[0m \u001b[0mheuristic\u001b[0m \u001b[1;33m=\u001b[0m \u001b[1;34m\"sequential\"\u001b[0m\u001b[1;33m,\u001b[0m \u001b[0maggr_seed\u001b[0m \u001b[1;33m=\u001b[0m \u001b[0maggr_seed\u001b[0m\u001b[1;33m)\u001b[0m\u001b[1;33m:\u001b[0m\u001b[1;33m\u001b[0m\u001b[0m\n\u001b[0m\u001b[0;32m      2\u001b[0m     \u001b[1;31m# Calculates cumulative PI score of all queries, which is an indication of 'exploitative-ness'\u001b[0m\u001b[1;33m\u001b[0m\u001b[1;33m\u001b[0m\u001b[0m\n\u001b[0;32m      3\u001b[0m     \u001b[0mall_seed_PI\u001b[0m \u001b[1;33m=\u001b[0m \u001b[0mnp\u001b[0m\u001b[1;33m.\u001b[0m\u001b[0marray\u001b[0m\u001b[1;33m(\u001b[0m\u001b[1;33m[\u001b[0m\u001b[1;33m]\u001b[0m\u001b[1;33m)\u001b[0m\u001b[1;33m\u001b[0m\u001b[0m\n\u001b[0;32m      4\u001b[0m \u001b[1;33m\u001b[0m\u001b[0m\n\u001b[0;32m      5\u001b[0m     \u001b[1;32mfor\u001b[0m \u001b[0mi\u001b[0m \u001b[1;32min\u001b[0m \u001b[0mrange\u001b[0m\u001b[1;33m(\u001b[0m\u001b[0mseed_size\u001b[0m\u001b[1;33m)\u001b[0m\u001b[1;33m:\u001b[0m\u001b[1;33m\u001b[0m\u001b[0m\n",
      "\u001b[1;31mNameError\u001b[0m: name 'aggr_seed' is not defined"
     ]
    }
   ],
   "source": [
    "def cumulative_PI_score(func = \"egg\", seed_size = 2, batch = False, batch_size = 2, heuristic = \"sequential\", aggr_seed = aggr_seed):\n",
    "    # Calculates cumulative PI score of all queries, which is an indication of 'exploitative-ness'\n",
    "    all_seed_PI = np.array([])\n",
    "    \n",
    "    for i in range(seed_size):\n",
    "        if batch == False:\n",
    "            dir_name = \"Exp_Data/\" + func + \",\" + str(seed_size) + \"_seed,sequential\" + \\\n",
    "            + str(i) + \"_seed/\"\n",
    "            filename = dir_name + \"sequential,intermediate_vars.pickle\"\n",
    "        \n",
    "        else:\n",
    "            dir_name = \"Exp_Data/\" + func + ',' + str(seed_size) + '_seed,' + str(batch_size) + '_batch_size/' \\\n",
    "            + str(i) + \"_seed/\"\n",
    "            file_name = dir_name + heuristic + ',intermediate_vars.pickle'\n",
    "        \n",
    "        with open(file_name, 'rb') as f:  # Python 3: open(..., 'rb')\n",
    "            pickle_dict = pickle.load(f)\n",
    "            PI_score = pickle_dict['PI_values']\n",
    "                       \n",
    "            # Sequential: self.full_PI_value[:, k] = PI_value\n",
    "            # Batch: self.full_PI_value[batch number, number within batch, :]\n",
    "            if batch == True: # If batch, reshape into sequantial format\n",
    "                PI_score = PI_score.reshape(PI_score.shape[-1], -1)\n",
    "                \n",
    "        if all_seed_PI.shape == (0,):\n",
    "            all_seed_PI = PI_score\n",
    "        else:\n",
    "            all_seed_PI = np.vstack((all_seed_PI, PI_score))\n",
    "            \n",
    "    if aggr_seed == \"mean\":\n",
    "        return np.mean(all_seed_PI, axis = 0)\n",
    "\n",
    "    if aggr_seed == \"median\":\n",
    "        return np.median(all_seed_PI, axis = 0)\n",
    "\n",
    "def plot_cumulative_PI_score(seed_size, batch_sizes, test_funcs, plot_choice, save_file):\n",
    "    # Loads, plots and saves graphs     \n",
    "    for batch_size in batch_sizes:\n",
    "        plt.figure() # New figure\n",
    "        for func in test_funcs:\n",
    "            try:\n",
    "                seq_results = cumulative_PI_score(batch = False, func = func, batch_size = batch_size, seed_size = seed_size)   \n",
    "            except: pass\n",
    "            try:\n",
    "                random_results = cumulative_PI_score(func = func, batch = True, batch_size = batch_size, \\\n",
    "                                                     seed_size = seed_size, heuristic = \"random\")\n",
    "            except: pass\n",
    "            try:\n",
    "                random1_results = cumulative_PI_score(func = func, batch = True, batch_size = batch_size, \\\n",
    "                                                      seed_size = seed_size, heuristic = \"random_except_1st\")\n",
    "            except: pass\n",
    "            try:\n",
    "                kb_results = cumulative_PI_score(func = func, batch = True, batch_size = batch_size, \\\n",
    "                                                 seed_size = seed_size, heuristic = \"kb\")\n",
    "            except: pass\n",
    "            try:\n",
    "                cl_mean_results = cumulative_PI_score(func = func, batch = True, batch_size = batch_size, \\\n",
    "                                                      seed_size = seed_size, heuristic = \"cl-mean\")\n",
    "            except: pass\n",
    "            try:\n",
    "                cl_min_results = cumulative_PI_score(func = func, batch = True, batch_size = batch_size, \\\n",
    "                                                     seed_size = seed_size, heuristic = \"cl-min\")\n",
    "            except: pass\n",
    "            try:\n",
    "                cl_max_results = cumulative_PI_score(func = func, batch = True, batch_size = batch_size, \\\n",
    "                                                     seed_size = seed_size, heuristic = \"cl-max\")\n",
    "            except: pass\n",
    "            \n",
    "            no_iterations = seq_results.shape[0]\n",
    "            \n",
    "            for key, value in plot_choice.items():\n",
    "                if value == 1:\n",
    "                    # fig = sns.lineplot(x = 'iters', y = 'values', data = eval(key), err_style = \"band\", label = label_lookup[key])\n",
    "                    fig = sns.lineplot(x = np.arange(no_iterations), y = eval(key), label = label_lookup[key], estimator = estimator)\n",
    "            \n",
    "            graph_title = str(batch_size) + \"-Batch on \"+ str(func) + \" Function \" + \"(\" + str(aggr_seed) + \", \" + \\\n",
    "            str(seed_size) + \" seed)\" \n",
    "            \"\"\n",
    "            fig.set(xlabel = \"No. of Iterations\", ylabel = \"PI Values for each Query\", title = graph_title)\n",
    "            \n",
    "            save_path = \"Exp_Data/Graphs/\" + graph_title + \".png\"\n",
    "            fig2 = fig.get_figure()\n",
    "            if save_file:\n",
    "                print(\"Saved as: \" + save_path)\n",
    "                fig2.savefig(save_path)\n",
    "\n",
    "plot_cumulative_PI_score(seed_size, batch_sizes, test_funcs, plot_choice_PI, save_file)"
   ]
  },
  {
   "cell_type": "markdown",
   "metadata": {},
   "source": [
    "## Table (to be completed)"
   ]
  },
  {
   "cell_type": "code",
   "execution_count": 3,
   "metadata": {},
   "outputs": [
    {
     "ename": "SyntaxError",
     "evalue": "invalid syntax (<ipython-input-3-dc5ab2e40695>, line 33)",
     "output_type": "error",
     "traceback": [
      "\u001b[1;36m  File \u001b[1;32m\"<ipython-input-3-dc5ab2e40695>\"\u001b[1;36m, line \u001b[1;32m33\u001b[0m\n\u001b[1;33m    median_results np.median(all_seed_PI)\u001b[0m\n\u001b[1;37m                    ^\u001b[0m\n\u001b[1;31mSyntaxError\u001b[0m\u001b[1;31m:\u001b[0m invalid syntax\n"
     ]
    }
   ],
   "source": [
    "def single_PI_score(func = \"branin\", seed_size = 30, batch = False, batch_size = 2, heuristic = \"sequential\"):\n",
    "    # Calculates cumulative PI score of all queries, which is an indication of 'exploitative-ness'\n",
    "    all_seed_PI = np.array([])\n",
    "    \n",
    "    for i in range(seed_size):\n",
    "        if batch == False:\n",
    "            dir_name = \"Exp_Data/\" + func + \",\" + str(seed_size) + \"_seed,sequential\" + \\\n",
    "            + str(i) + \"_seed/\"\n",
    "            filename = dir_name + \"sequential,intermediate_vars.pickle\"\n",
    "        \n",
    "        else:\n",
    "            dir_name = \"Exp_Data/\" + func + ',' + str(seed_size) + '_seed,' + str(batch_size) + '_batch_size/' \\\n",
    "            + str(i) + \"_seed/\"\n",
    "            file_name = dir_name + heuristic + ',intermediate_vars.pickle'\n",
    "        \n",
    "        try: # in case file does not exist, return 0\n",
    "            with open(file_name, 'rb') as f:  # Python 3: open(..., 'rb')\n",
    "                pickle_dict = pickle.load(f)\n",
    "                PI_score = pickle_dict['PI_values']\n",
    "\n",
    "                # Sequential: self.full_PI_value[:, k] = PI_value\n",
    "                # Batch: self.full_PI_value[batch number, number within batch, :]\n",
    "                if batch == True: # If batch, reshape into sequantial format\n",
    "                    PI_score = PI_score.reshape(PI_score.shape[-1], -1)\n",
    "        except:\n",
    "            print(file_name + \" not found.\")\n",
    "            return 0, 0\n",
    "\n",
    "        if all_seed_PI.shape == (0,):\n",
    "            all_seed_PI = PI_score\n",
    "        else:\n",
    "            all_seed_PI = np.vstack((all_seed_PI, PI_score))\n",
    "            \n",
    "    mean_results = np.mean(all_seed_PI)\n",
    "    median_results np.median(all_seed_PI)\n",
    "    \n",
    "    return mean_results, median_results\n",
    "\n",
    "def all_PI_score(test_funcs, batch_sizes, seed_size = 30):\n",
    "    for current_batch_size in batch_sizes:\n",
    "        for func in test_funcs:\n",
    "            seq_mean, seq_median = single_PI_score(func = func, seed_size = seed_size, batch = False)\n",
    "            kb_mean, kb_median = single_PI_score(func = func, seed_size = seed_size, batch = True, batch_size = \n",
    "                                                current_batch_size, heuristic = \"kb\")\n",
    "            \n",
    "cumulative_PI_score_table()"
   ]
  }
 ],
 "metadata": {
  "kernelspec": {
   "display_name": "Python 3",
   "language": "python",
   "name": "python3"
  },
  "language_info": {
   "codemirror_mode": {
    "name": "ipython",
    "version": 3
   },
   "file_extension": ".py",
   "mimetype": "text/x-python",
   "name": "python",
   "nbconvert_exporter": "python",
   "pygments_lexer": "ipython3",
   "version": "3.5.5"
  }
 },
 "nbformat": 4,
 "nbformat_minor": 2
}
