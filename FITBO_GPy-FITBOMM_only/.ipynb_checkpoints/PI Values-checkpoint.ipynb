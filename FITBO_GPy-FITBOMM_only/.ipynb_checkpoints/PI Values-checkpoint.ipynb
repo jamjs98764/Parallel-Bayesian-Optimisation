{
 "cells": [
  {
   "cell_type": "code",
   "execution_count": 1,
   "metadata": {},
   "outputs": [],
   "source": [
    "import numpy as np\n",
    "import seaborn as sns\n",
    "import pandas as pd\n",
    "import pickle\n",
    "import matplotlib.pyplot as plt\n",
    "%matplotlib inline"
   ]
  },
  {
   "cell_type": "code",
   "execution_count": 19,
   "metadata": {},
   "outputs": [],
   "source": [
    "seed_size = 50\n",
    "batch_sizes = [4]\n",
    "test_funcs = [\"egg\"]\n",
    "save_file = False\n",
    "\n",
    "plot_choice_PI = {\n",
    "        \"seq_results\": 0, \n",
    "        \"random_results\": 1,\n",
    "        \"random1_results\": 0,\n",
    "        \"kb_results\": 1,\n",
    "        \"cl_mean_results\": 0, \n",
    "        \"cl_min_results\": 1,\n",
    "        \"cl_max_results\": 0\n",
    "        }\n",
    "\n",
    "label_lookup = {\n",
    "        \"seq_results\": \"Sequential\", \n",
    "        \"random_results\": \"Fully Random\",\n",
    "        \"random1_results\": \"Random excl. 1st\",\n",
    "        \"kb_results\": \"Kriging Believer\",\n",
    "        \"cl_mean_results\": \"Constant Liar (Mean)\", \n",
    "        \"cl_min_results\": \"Constant Liar (Min)\",\n",
    "        \"cl_max_results\": \"Constant Liar (Max)\",\n",
    "        \"gpyopt_localp\": \"Local Penalisation\",\n",
    "        \"gpyopt_sequential\": \"Gpyopt Sequential\"\n",
    "        }\n",
    "\n",
    "aggr_seed = \"mean\""
   ]
  },
  {
   "cell_type": "markdown",
   "metadata": {},
   "source": [
    "## Line Plots"
   ]
  },
  {
   "cell_type": "code",
   "execution_count": 22,
   "metadata": {},
   "outputs": [
    {
     "ename": "UnboundLocalError",
     "evalue": "local variable 'random_results' referenced before assignment",
     "output_type": "error",
     "traceback": [
      "\u001b[1;31m---------------------------------------------------------------------------\u001b[0m",
      "\u001b[1;31mUnboundLocalError\u001b[0m                         Traceback (most recent call last)",
      "\u001b[1;32m<ipython-input-22-259da2a8f255>\u001b[0m in \u001b[0;36m<module>\u001b[1;34m()\u001b[0m\n\u001b[0;32m     76\u001b[0m                 \u001b[0mfig2\u001b[0m\u001b[1;33m.\u001b[0m\u001b[0msavefig\u001b[0m\u001b[1;33m(\u001b[0m\u001b[0msave_path\u001b[0m\u001b[1;33m)\u001b[0m\u001b[1;33m\u001b[0m\u001b[0m\n\u001b[0;32m     77\u001b[0m \u001b[1;33m\u001b[0m\u001b[0m\n\u001b[1;32m---> 78\u001b[1;33m \u001b[0mplot_cumulative_PI_score\u001b[0m\u001b[1;33m(\u001b[0m\u001b[0mseed_size\u001b[0m\u001b[1;33m,\u001b[0m \u001b[0mbatch_sizes\u001b[0m\u001b[1;33m,\u001b[0m \u001b[0mtest_funcs\u001b[0m\u001b[1;33m,\u001b[0m \u001b[0mplot_choice_PI\u001b[0m\u001b[1;33m,\u001b[0m \u001b[0msave_file\u001b[0m\u001b[1;33m)\u001b[0m\u001b[1;33m\u001b[0m\u001b[0m\n\u001b[0m",
      "\u001b[1;32m<ipython-input-22-259da2a8f255>\u001b[0m in \u001b[0;36mplot_cumulative_PI_score\u001b[1;34m(seed_size, batch_sizes, test_funcs, plot_choice, save_file)\u001b[0m\n\u001b[0;32m     60\u001b[0m \u001b[1;33m\u001b[0m\u001b[0m\n\u001b[0;32m     61\u001b[0m             \u001b[0mno_iterations\u001b[0m \u001b[1;33m=\u001b[0m \u001b[0mseq_results\u001b[0m\u001b[1;33m.\u001b[0m\u001b[0mshape\u001b[0m\u001b[1;33m[\u001b[0m\u001b[1;36m0\u001b[0m\u001b[1;33m]\u001b[0m\u001b[1;33m\u001b[0m\u001b[0m\n\u001b[1;32m---> 62\u001b[1;33m             \u001b[0mprint\u001b[0m\u001b[1;33m(\u001b[0m\u001b[0mrandom_results\u001b[0m\u001b[1;33m)\u001b[0m\u001b[1;33m\u001b[0m\u001b[0m\n\u001b[0m\u001b[0;32m     63\u001b[0m             \u001b[1;32mfor\u001b[0m \u001b[0mkey\u001b[0m\u001b[1;33m,\u001b[0m \u001b[0mvalue\u001b[0m \u001b[1;32min\u001b[0m \u001b[0mplot_choice\u001b[0m\u001b[1;33m.\u001b[0m\u001b[0mitems\u001b[0m\u001b[1;33m(\u001b[0m\u001b[1;33m)\u001b[0m\u001b[1;33m:\u001b[0m\u001b[1;33m\u001b[0m\u001b[0m\n\u001b[0;32m     64\u001b[0m                 \u001b[1;32mif\u001b[0m \u001b[0mvalue\u001b[0m \u001b[1;33m==\u001b[0m \u001b[1;36m1\u001b[0m\u001b[1;33m:\u001b[0m\u001b[1;33m\u001b[0m\u001b[0m\n",
      "\u001b[1;31mUnboundLocalError\u001b[0m: local variable 'random_results' referenced before assignment"
     ]
    },
    {
     "data": {
      "text/plain": [
       "<Figure size 432x288 with 0 Axes>"
      ]
     },
     "metadata": {},
     "output_type": "display_data"
    }
   ],
   "source": [
    "def cumulative_PI_score(func = \"egg\", seed_size = 2, batch = False, batch_size = 2, heuristic = \"sequential\", \n",
    "                        aggr_seed = aggr_seed):\n",
    "    # Calculates cumulative PI score of all queries, which is an indication of 'exploitative-ness'\n",
    "    all_seed_PI = np.array([])\n",
    "    \n",
    "    for i in range(seed_size):\n",
    "        if batch == False:\n",
    "            dir_name = \"Exp_Data/\" + func + \",\" + str(seed_size) + \"_seed,sequential/\" \\\n",
    "            + str(i) + \"_seed/\"\n",
    "            file_name = dir_name + \"sequential,intermediate_vars.pickle\"\n",
    "        \n",
    "        else:\n",
    "            dir_name = \"Exp_Data/\" + func + ',' + str(seed_size) + '_seed,' + str(batch_size) + '_batch_size/' \\\n",
    "            + str(i) + \"_seed/\"\n",
    "            file_name = dir_name + heuristic + ',intermediate_vars.pickle'\n",
    "        \n",
    "        with open(file_name, 'rb') as f:  # Python 3: open(..., 'rb')\n",
    "            pickle_dict = pickle.load(f)\n",
    "            PI_score = pickle_dict['PI_values']\n",
    "                       \n",
    "            # Sequential: self.full_PI_value[:, k] = PI_value\n",
    "            # Batch: self.full_PI_value[batch number, number within batch, :]\n",
    "            if batch == True: # If batch, reshape into sequantial format\n",
    "                PI_score = PI_score.reshape(PI_score.shape[-1], -1)\n",
    "                \n",
    "        if all_seed_PI.shape == (0,):\n",
    "            all_seed_PI = PI_score\n",
    "        else:\n",
    "            all_seed_PI = np.vstack((all_seed_PI, PI_score))\n",
    "            \n",
    "    if aggr_seed == \"mean\":\n",
    "        return np.mean(all_seed_PI, axis = 0)\n",
    "\n",
    "    if aggr_seed == \"median\":\n",
    "        return np.median(all_seed_PI, axis = 0)\n",
    "\n",
    "def plot_cumulative_PI_score(seed_size, batch_sizes, test_funcs, plot_choice, save_file):\n",
    "    # Loads, plots and saves graphs     \n",
    "    for batch_size in batch_sizes:\n",
    "        plt.figure() # New figure\n",
    "        for func in test_funcs:\n",
    "            try:\n",
    "                seq_results = cumulative_PI_score(batch = False, func = func, batch_size = batch_size, seed_size = seed_size)   \n",
    "            except: pass\n",
    "            try:\n",
    "                random_results = cumulative_PI_score(func = func, batch = True, batch_size = batch_size, \\\n",
    "                                                     seed_size = seed_size, heuristic = \"random\")\n",
    "            except: pass\n",
    "            try:\n",
    "                random1_results = cumulative_PI_score(func = func, batch = True, batch_size = batch_size, \\\n",
    "                                                      seed_size = seed_size, heuristic = \"random_except_1st\")\n",
    "            except: pass\n",
    "            try:\n",
    "                kb_results = cumulative_PI_score(func = func, batch = True, batch_size = batch_size, \\\n",
    "                                                 seed_size = seed_size, heuristic = \"kb\")\n",
    "            except: pass\n",
    "            try:\n",
    "                cl_mean_results = cumulative_PI_score(func = func, batch = True, batch_size = batch_size, \\\n",
    "                                                      seed_size = seed_size, heuristic = \"cl-mean\")\n",
    "            except: pass\n",
    "            try:\n",
    "                cl_min_results = cumulative_PI_score(func = func, batch = True, batch_size = batch_size, \\\n",
    "                                                     seed_size = seed_size, heuristic = \"cl-min\")\n",
    "            except: pass\n",
    "            try:\n",
    "                cl_max_results = cumulative_PI_score(func = func, batch = True, batch_size = batch_size, \\\n",
    "                                                     seed_size = seed_size, heuristic = \"cl-max\")\n",
    "            except: pass\n",
    "            \n",
    "            no_iterations = seq_results.shape[0]\n",
    "            print(random_results)\n",
    "            for key, value in plot_choice.items():\n",
    "                if value == 1:\n",
    "                    # fig = sns.lineplot(x = 'iters', y = 'values', data = eval(key), err_style = \"band\", label = label_lookup[key])\n",
    "                    fig = sns.lineplot(x = np.arange(no_iterations), y = eval(key), label = label_lookup[key], estimator = aggr_seed)\n",
    "            \n",
    "            graph_title = str(batch_size) + \"-Batch on \"+ str(func) + \" Function \" + \"(\" + str(aggr_seed) + \", \" + \\\n",
    "            str(seed_size) + \" seed)\" \n",
    "            \"\"\n",
    "            fig.set(xlabel = \"No. of Iterations\", ylabel = \"PI Values for each Query\", title = graph_title)\n",
    "            \n",
    "            save_path = \"Exp_Data/Graphs/\" + graph_title + \".png\"\n",
    "            fig2 = fig.get_figure()\n",
    "            if save_file:\n",
    "                print(\"Saved as: \" + save_path)\n",
    "                fig2.savefig(save_path)\n",
    "\n",
    "plot_cumulative_PI_score(seed_size, batch_sizes, test_funcs, plot_choice_PI, save_file)"
   ]
  },
  {
   "cell_type": "code",
   "execution_count": 23,
   "metadata": {},
   "outputs": [
    {
     "ename": "FileNotFoundError",
     "evalue": "[Errno 2] No such file or directory: 'Exp_Data/egg,50_seed,4_batch_size/30_seed/random,intermediate_vars.pickle'",
     "output_type": "error",
     "traceback": [
      "\u001b[1;31m---------------------------------------------------------------------------\u001b[0m",
      "\u001b[1;31mFileNotFoundError\u001b[0m                         Traceback (most recent call last)",
      "\u001b[1;32m<ipython-input-23-808c5b7382b1>\u001b[0m in \u001b[0;36m<module>\u001b[1;34m()\u001b[0m\n\u001b[1;32m----> 1\u001b[1;33m \u001b[0mrandom_result\u001b[0m \u001b[1;33m=\u001b[0m \u001b[0mcumulative_PI_score\u001b[0m\u001b[1;33m(\u001b[0m\u001b[0mfunc\u001b[0m \u001b[1;33m=\u001b[0m \u001b[1;34m\"egg\"\u001b[0m\u001b[1;33m,\u001b[0m \u001b[0mbatch\u001b[0m \u001b[1;33m=\u001b[0m \u001b[1;32mTrue\u001b[0m\u001b[1;33m,\u001b[0m \u001b[0mbatch_size\u001b[0m \u001b[1;33m=\u001b[0m \u001b[1;36m4\u001b[0m\u001b[1;33m,\u001b[0m                                                      \u001b[0mseed_size\u001b[0m \u001b[1;33m=\u001b[0m \u001b[1;36m50\u001b[0m\u001b[1;33m,\u001b[0m \u001b[0mheuristic\u001b[0m \u001b[1;33m=\u001b[0m \u001b[1;34m\"random\"\u001b[0m\u001b[1;33m)\u001b[0m\u001b[1;33m\u001b[0m\u001b[0m\n\u001b[0m",
      "\u001b[1;32m<ipython-input-22-259da2a8f255>\u001b[0m in \u001b[0;36mcumulative_PI_score\u001b[1;34m(func, seed_size, batch, batch_size, heuristic, aggr_seed)\u001b[0m\n\u001b[0;32m     12\u001b[0m             \u001b[0mfile_name\u001b[0m \u001b[1;33m=\u001b[0m \u001b[0mdir_name\u001b[0m \u001b[1;33m+\u001b[0m \u001b[0mheuristic\u001b[0m \u001b[1;33m+\u001b[0m \u001b[1;34m',intermediate_vars.pickle'\u001b[0m\u001b[1;33m\u001b[0m\u001b[0m\n\u001b[0;32m     13\u001b[0m \u001b[1;33m\u001b[0m\u001b[0m\n\u001b[1;32m---> 14\u001b[1;33m         \u001b[1;32mwith\u001b[0m \u001b[0mopen\u001b[0m\u001b[1;33m(\u001b[0m\u001b[0mfile_name\u001b[0m\u001b[1;33m,\u001b[0m \u001b[1;34m'rb'\u001b[0m\u001b[1;33m)\u001b[0m \u001b[1;32mas\u001b[0m \u001b[0mf\u001b[0m\u001b[1;33m:\u001b[0m  \u001b[1;31m# Python 3: open(..., 'rb')\u001b[0m\u001b[1;33m\u001b[0m\u001b[0m\n\u001b[0m\u001b[0;32m     15\u001b[0m             \u001b[0mpickle_dict\u001b[0m \u001b[1;33m=\u001b[0m \u001b[0mpickle\u001b[0m\u001b[1;33m.\u001b[0m\u001b[0mload\u001b[0m\u001b[1;33m(\u001b[0m\u001b[0mf\u001b[0m\u001b[1;33m)\u001b[0m\u001b[1;33m\u001b[0m\u001b[0m\n\u001b[0;32m     16\u001b[0m             \u001b[0mPI_score\u001b[0m \u001b[1;33m=\u001b[0m \u001b[0mpickle_dict\u001b[0m\u001b[1;33m[\u001b[0m\u001b[1;34m'PI_values'\u001b[0m\u001b[1;33m]\u001b[0m\u001b[1;33m\u001b[0m\u001b[0m\n",
      "\u001b[1;31mFileNotFoundError\u001b[0m: [Errno 2] No such file or directory: 'Exp_Data/egg,50_seed,4_batch_size/30_seed/random,intermediate_vars.pickle'"
     ]
    }
   ],
   "source": [
    "random_result = cumulative_PI_score(func = \"egg\", batch = True, batch_size = 4, \\\n",
    "                                                     seed_size = 50, heuristic = \"random\")"
   ]
  },
  {
   "cell_type": "markdown",
   "metadata": {},
   "source": [
    "## Table (to be completed)"
   ]
  },
  {
   "cell_type": "code",
   "execution_count": 3,
   "metadata": {},
   "outputs": [
    {
     "ename": "SyntaxError",
     "evalue": "invalid syntax (<ipython-input-3-dc5ab2e40695>, line 33)",
     "output_type": "error",
     "traceback": [
      "\u001b[1;36m  File \u001b[1;32m\"<ipython-input-3-dc5ab2e40695>\"\u001b[1;36m, line \u001b[1;32m33\u001b[0m\n\u001b[1;33m    median_results np.median(all_seed_PI)\u001b[0m\n\u001b[1;37m                    ^\u001b[0m\n\u001b[1;31mSyntaxError\u001b[0m\u001b[1;31m:\u001b[0m invalid syntax\n"
     ]
    }
   ],
   "source": [
    "def single_PI_score(func = \"branin\", seed_size = 30, batch = False, batch_size = 2, heuristic = \"sequential\"):\n",
    "    # Calculates cumulative PI score of all queries, which is an indication of 'exploitative-ness'\n",
    "    all_seed_PI = np.array([])\n",
    "    \n",
    "    for i in range(seed_size):\n",
    "        if batch == False:\n",
    "            dir_name = \"Exp_Data/\" + func + \",\" + str(seed_size) + \"_seed,sequential\" + \\\n",
    "            + str(i) + \"_seed/\"\n",
    "            filename = dir_name + \"sequential,intermediate_vars.pickle\"\n",
    "        \n",
    "        else:\n",
    "            dir_name = \"Exp_Data/\" + func + ',' + str(seed_size) + '_seed,' + str(batch_size) + '_batch_size/' \\\n",
    "            + str(i) + \"_seed/\"\n",
    "            file_name = dir_name + heuristic + ',intermediate_vars.pickle'\n",
    "        \n",
    "        try: # in case file does not exist, return 0\n",
    "            with open(file_name, 'rb') as f:  # Python 3: open(..., 'rb')\n",
    "                pickle_dict = pickle.load(f)\n",
    "                PI_score = pickle_dict['PI_values']\n",
    "\n",
    "                # Sequential: self.full_PI_value[:, k] = PI_value\n",
    "                # Batch: self.full_PI_value[batch number, number within batch, :]\n",
    "                if batch == True: # If batch, reshape into sequantial format\n",
    "                    PI_score = PI_score.reshape(PI_score.shape[-1], -1)\n",
    "        except:\n",
    "            print(file_name + \" not found.\")\n",
    "            return 0, 0\n",
    "\n",
    "        if all_seed_PI.shape == (0,):\n",
    "            all_seed_PI = PI_score\n",
    "        else:\n",
    "            all_seed_PI = np.vstack((all_seed_PI, PI_score))\n",
    "            \n",
    "    mean_results = np.mean(all_seed_PI)\n",
    "    median_results np.median(all_seed_PI)\n",
    "    \n",
    "    return mean_results, median_results\n",
    "\n",
    "def all_PI_score(test_funcs, batch_sizes, seed_size = 30):\n",
    "    for current_batch_size in batch_sizes:\n",
    "        for func in test_funcs:\n",
    "            seq_mean, seq_median = single_PI_score(func = func, seed_size = seed_size, batch = False)\n",
    "            kb_mean, kb_median = single_PI_score(func = func, seed_size = seed_size, batch = True, batch_size = \n",
    "                                                current_batch_size, heuristic = \"kb\")\n",
    "            \n",
    "cumulative_PI_score_table()"
   ]
  }
 ],
 "metadata": {
  "kernelspec": {
   "display_name": "Python 3",
   "language": "python",
   "name": "python3"
  },
  "language_info": {
   "codemirror_mode": {
    "name": "ipython",
    "version": 3
   },
   "file_extension": ".py",
   "mimetype": "text/x-python",
   "name": "python",
   "nbconvert_exporter": "python",
   "pygments_lexer": "ipython3",
   "version": "3.5.5"
  }
 },
 "nbformat": 4,
 "nbformat_minor": 2
}
