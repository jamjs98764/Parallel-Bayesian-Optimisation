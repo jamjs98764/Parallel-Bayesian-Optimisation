{
 "cells": [
  {
   "cell_type": "code",
   "execution_count": 1,
   "metadata": {},
   "outputs": [],
   "source": [
    "import numpy as np\n",
    "import seaborn as sns\n",
    "import pandas as pd\n",
    "import pickle\n",
    "import matplotlib.pyplot as plt\n",
    "import os\n",
    "from plotting_utilities import *\n",
    "import logging\n",
    "from Test_Funcs import branin\n",
    "%matplotlib inline"
   ]
  },
  {
   "cell_type": "markdown",
   "metadata": {},
   "source": [
    "#  Regret Minimisation Plot (Sequential)"
   ]
  },
  {
   "cell_type": "code",
   "execution_count": 71,
   "metadata": {},
   "outputs": [],
   "source": [
    "seed_size = 50\n",
    "test_func = \"branin\"\n",
    "save_file = False\n",
    "estimator = \"mean\"\n",
    "\n",
    "if estimator == np.median:\n",
    "    estimator_title = \"median\"\n",
    "else:\n",
    "    estimator_title = \"mean\"\n",
    "\n",
    "log_results = True\n",
    "cumulative = True"
   ]
  },
  {
   "cell_type": "code",
   "execution_count": 77,
   "metadata": {},
   "outputs": [],
   "source": [
    "def unpack_regret(func, dic):\n",
    "    # Used to unpack X_hist values from gpyopt pickle dictionary to get Immediate Regret\n",
    "    max_seed = max(dic.keys()) + 1 # how many seeds\n",
    "    col_size = dic[0].shape[0] # how many iterations\n",
    "\n",
    "    IR = np.zeros((max_seed, col_size))\n",
    "    # Minimum y value\n",
    "    min_y_dict = {\n",
    "        \"hartmann\": np.array([-18.22368011]),\n",
    "        \"egg\": np.array([-9.596407]),\n",
    "        \"branin\": np.array([-14.96021125])\n",
    "    }\n",
    "\n",
    "    true_min_y = min_y_dict[func]\n",
    "\n",
    "    for seed_i in range(max_seed):\n",
    "        X_hist = dic[seed_i]\n",
    "        Y_hist = branin(X_hist)\n",
    "\n",
    "        if Y_hist.shape[0] == IR.shape[1]: # check whether matches, as gpyopt has errors\n",
    "            IR[seed_i,:] = abs(Y_hist - true_min_y).flatten()\n",
    "        else:\n",
    "            print(\"Seed \" + str(seed_i) + \" has errors in data.\")\n",
    "            IR[seed_i,:] = np.zeros(IR.shape[1])\n",
    "\n",
    "    IR = IR[~np.all(IR == 0, axis=1)] # remove rows with full zero (errors)\n",
    "    IR = min_y_hist(IR)\n",
    "\n",
    "    return IR"
   ]
  },
  {
   "cell_type": "code",
   "execution_count": 80,
   "metadata": {},
   "outputs": [],
   "source": [
    "#####\n",
    "# 1. Regret against number of iterations\n",
    "#####\n",
    "def gpyopt_regret(func, acq_func, seed_size = seed_size, batch_size = 1):\n",
    "\n",
    "    X, min_y = load_pickle_gpyopt(func, seed_size, batch_size, acq_func, \"local_penalization\", False)\n",
    "    IR = unpack_regret(func, X)\n",
    "    \n",
    "    \"\"\"\n",
    "    if batch_size > 1:\n",
    "        IR = np.repeat(IR, repeats = batch_size * np.ones(IR.shape[1], dtype = int), axis = 1)\n",
    "    \"\"\"\n",
    "    \n",
    "    if cumulative:\n",
    "        cumulative_regret = np.cumsum(IR, axis = 1) # turn IR into cumulative\n",
    "        df = np_to_df(cumulative_regret)\n",
    "    else:\n",
    "        df = np_to_df(IR)\n",
    "        \n",
    "    if log_results == True: \n",
    "        df['values'] = np.log(df['values'])\n",
    "\n",
    "    return df\n",
    "\n",
    "def FITBO_regret(func, seed_size = seed_size, batch_size = 1):\n",
    "    # Minimum y value\n",
    "    min_y_dict = {\n",
    "        \"hartmann\": np.array([-18.22368011]),\n",
    "        \"egg\": np.array([-9.596407]),\n",
    "        \"branin\": np.array([-14.96021125])\n",
    "    }\n",
    "\n",
    "    true_min_y = min_y_dict[func]\n",
    "    \n",
    "    y_hist = np.zeros((43,50))\n",
    "    \n",
    "    for seed_i in range(seed_size):\n",
    "        y = load_pickle(seed_size, seed_i, func, False, \"kb\", 2, \"Y\")\n",
    "        y_hist[:,seed_i] = y.flatten()\n",
    "        \n",
    "    y_hist = np.transpose(y_hist) # Produces array of size (seed_size, num_iters)\n",
    "    y_hist = y_hist[:,2:] # Remove initial points\n",
    "        \n",
    "    IR = abs(y_hist - true_min_y)\n",
    "    if cumulative:\n",
    "        cumulative_regret = np.cumsum(IR, axis = 1) # turn IR into cumulative\n",
    "        df = np_to_df(cumulative_regret)\n",
    "    else:\n",
    "        df = np_to_df(IR)\n",
    "\n",
    "    if log_results == True: \n",
    "        df['values'] = np.log(df['values'])\n",
    "\n",
    "    return df\n",
    "\n",
    "def pso_regret(func, seed_size = seed_size, batch_size = 1):\n",
    "    X_pso, min_y = load_pickle_pso(func, seed_size, batch_size)\n",
    "    \n",
    "    for seed_i in range(seed_size):\n",
    "        X_pso[seed_i] = np.concatenate(X_pso[seed_i], axis=0 )\n",
    "    \n",
    "    IR = unpack_regret(func, X_pso)  \n",
    "    \n",
    "    if cumulative:\n",
    "        cumulative_regret = np.cumsum(IR, axis = 1) # turn IR into cumulative\n",
    "        df = np_to_df(cumulative_regret)\n",
    "    else:\n",
    "        df = np_to_df(IR)\n",
    "        \n",
    "    if log_results == True: \n",
    "        df['values'] = np.log(df['values'])\n",
    "\n",
    "    return df"
   ]
  },
  {
   "cell_type": "code",
   "execution_count": 81,
   "metadata": {},
   "outputs": [
    {
     "name": "stdout",
     "output_type": "stream",
     "text": [
      "Seed 1 has errors in data.\n",
      "Seed 10 has errors in data.\n",
      "Seed 16 has errors in data.\n",
      "Seed 33 has errors in data.\n",
      "Seed 36 has errors in data.\n",
      "Seed 48 has errors in data.\n",
      "Seed 8 has errors in data.\n",
      "Seed 14 has errors in data.\n",
      "Seed 16 has errors in data.\n",
      "Seed 22 has errors in data.\n",
      "Seed 42 has errors in data.\n",
      "Seed 10 has errors in data.\n",
      "Seed 14 has errors in data.\n",
      "Seed 16 has errors in data.\n",
      "Seed 22 has errors in data.\n",
      "Seed 36 has errors in data.\n",
      "Seed 43 has errors in data.\n",
      "Seed 48 has errors in data.\n"
     ]
    }
   ],
   "source": [
    "df_lcb = gpyopt_regret(\"branin\", \"LCB\")\n",
    "df_mpi = gpyopt_regret(\"branin\", \"MPI\")\n",
    "df_ei = gpyopt_regret(\"branin\", \"EI\")\n",
    "\n",
    "df_fitbo = FITBO_regret(\"branin\")\n",
    "\n",
    "df_pso = pso_regret(\"branin\")"
   ]
  },
  {
   "cell_type": "code",
   "execution_count": 82,
   "metadata": {},
   "outputs": [
    {
     "data": {
      "text/plain": [
       "[Text(0, 0.5, 'Log Cumulative Simple Regret'),\n",
       " Text(0.5, 0, 'No. of Iterations'),\n",
       " Text(0.5, 1.0, 'Cumulative Simple Regret of Queries on Branin Function (mean, 50 seed)')]"
      ]
     },
     "execution_count": 82,
     "metadata": {},
     "output_type": "execute_result"
    },
    {
     "data": {
      "image/png": "[encoded data removed]",
      "text/plain": [
       "<Figure size 432x288 with 1 Axes>"
      ]
     },
     "metadata": {
      "needs_background": "light"
     },
     "output_type": "display_data"
    }
   ],
   "source": [
    "fig = sns.lineplot(x = 'iters', y = 'values', data = df_lcb, err_style = \"band\", \\\n",
    "                   label = \"LCB\", estimator = estimator, ci = 68)\n",
    "fig = sns.lineplot(x = 'iters', y = 'values', data = df_ei, err_style = \"band\", \\\n",
    "                   label = \"EI\", estimator = estimator, ci = 68)\n",
    "fig = sns.lineplot(x = 'iters', y = 'values', data = df_mpi, err_style = \"band\", \\\n",
    "                   label = \"MPI\", estimator = estimator, ci = 68)\n",
    "fig = sns.lineplot(x = 'iters', y = 'values', data = df_fitbo, err_style = \"band\", \\\n",
    "                   label = \"FITBO\", estimator = estimator, ci = 68)\n",
    "fig = sns.lineplot(x = 'iters', y = 'values', data = df_pso, err_style = \"band\", \\\n",
    "                   label = \"PSO\", estimator = estimator, ci = 68)\n",
    "\n",
    "graph_title = \"Cumulative Simple Regret of Queries on Branin Function (mean, 50 seed)\"\n",
    "fig.set(xlabel = \"No. of Iterations\", ylabel = \"Log Cumulative Simple Regret\", title = graph_title)"
   ]
  },
  {
   "cell_type": "markdown",
   "metadata": {},
   "source": [
    "## Instantaneous Regret"
   ]
  },
  {
   "cell_type": "code",
   "execution_count": 83,
   "metadata": {},
   "outputs": [],
   "source": [
    "seed_size = 50\n",
    "test_func = \"branin\"\n",
    "save_file = False\n",
    "estimator = \"mean\"\n",
    "\n",
    "if estimator == np.median:\n",
    "    estimator_title = \"median\"\n",
    "else:\n",
    "    estimator_title = \"mean\"\n",
    "\n",
    "log_results = False\n",
    "cumulative = False"
   ]
  },
  {
   "cell_type": "code",
   "execution_count": 84,
   "metadata": {},
   "outputs": [
    {
     "name": "stdout",
     "output_type": "stream",
     "text": [
      "Seed 1 has errors in data.\n",
      "Seed 10 has errors in data.\n",
      "Seed 16 has errors in data.\n",
      "Seed 33 has errors in data.\n",
      "Seed 36 has errors in data.\n",
      "Seed 48 has errors in data.\n",
      "Seed 8 has errors in data.\n",
      "Seed 14 has errors in data.\n",
      "Seed 16 has errors in data.\n",
      "Seed 22 has errors in data.\n",
      "Seed 42 has errors in data.\n",
      "Seed 10 has errors in data.\n",
      "Seed 14 has errors in data.\n",
      "Seed 16 has errors in data.\n",
      "Seed 22 has errors in data.\n",
      "Seed 36 has errors in data.\n",
      "Seed 43 has errors in data.\n",
      "Seed 48 has errors in data.\n"
     ]
    }
   ],
   "source": [
    "df_lcb = gpyopt_regret(\"branin\", \"LCB\")\n",
    "df_mpi = gpyopt_regret(\"branin\", \"MPI\")\n",
    "df_ei = gpyopt_regret(\"branin\", \"EI\")\n",
    "\n",
    "df_fitbo = FITBO_regret(\"branin\")"
   ]
  },
  {
   "cell_type": "code",
   "execution_count": null,
   "metadata": {},
   "outputs": [],
   "source": [
    "fig = sns.lineplot(x = 'iters', y = 'values', data = df_lcb, err_style = \"band\", \\\n",
    "                   label = \"LCB\", estimator = estimator, ci = 68)\n",
    "fig = sns.lineplot(x = 'iters', y = 'values', data = df_ei, err_style = \"band\", \\\n",
    "                   label = \"EI\", estimator = estimator, ci = 68)\n",
    "fig = sns.lineplot(x = 'iters', y = 'values', data = df_mpi, err_style = \"band\", \\\n",
    "                   label = \"MPI\", estimator = estimator, ci = 68)\n",
    "fig = sns.lineplot(x = 'iters', y = 'values', data = df_fitbo, err_style = \"band\", \\\n",
    "                   label = \"FITBO\", estimator = estimator, ci = 68)\n",
    "\n",
    "graph_title = \"Simple Regret of Queries on Branin Function (mean, 50 seed)\"\n",
    "fig.set(xlabel = \"No. of Iterations\", ylabel = \"Simple Regret\", title = graph_title)"
   ]
  }
 ],
 "metadata": {
  "kernelspec": {
   "display_name": "my_env",
   "language": "python",
   "name": "my_env"
  },
  "language_info": {
   "codemirror_mode": {
    "name": "ipython",
    "version": 3
   },
   "file_extension": ".py",
   "mimetype": "text/x-python",
   "name": "python",
   "nbconvert_exporter": "python",
   "pygments_lexer": "ipython3",
   "version": "3.7.2"
  }
 },
 "nbformat": 4,
 "nbformat_minor": 2
}
